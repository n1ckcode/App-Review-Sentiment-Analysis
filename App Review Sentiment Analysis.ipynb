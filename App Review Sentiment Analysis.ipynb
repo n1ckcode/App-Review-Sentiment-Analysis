{
 "cells": [
  {
   "cell_type": "markdown",
   "id": "6abcedb7",
   "metadata": {},
   "source": [
    "# Read JSON file \n"
   ]
  },
  {
   "cell_type": "code",
   "execution_count": 1,
   "id": "c941bd88",
   "metadata": {},
   "outputs": [],
   "source": [
    "import pandas as pd"
   ]
  },
  {
   "cell_type": "code",
   "execution_count": 2,
   "id": "ca4cc9fb",
   "metadata": {},
   "outputs": [
    {
     "name": "stdout",
     "output_type": "stream",
     "text": [
      "                 date          userName                    title  rating   \n",
      "0 2017-09-08 11:58:17            Mika 👽  Dieser nervige Button 😂       5  \\\n",
      "1 2017-09-06 15:32:26            Bilux1                Super App       5   \n",
      "2 2021-01-08 22:31:30      Leberkasbepi                  Tschüss       1   \n",
      "3 2019-01-15 12:18:55          1an--na1   Gehört jzt zu facebook       1   \n",
      "4 2020-05-24 13:51:44  Bykslmddislnsvsj                        .       4   \n",
      "\n",
      "  isEdited                                             review   \n",
      "0    false  Sehr gute App, erfüllt Ihren Zweck. Finde so g...  \\\n",
      "1    false                            Bester Messenger Dienst   \n",
      "2    false  Wegen den neuen Richtlinien, werd ich WhatsApp...   \n",
      "3    false                      Furchtbare datenschutzpolitik   \n",
      "4    false  Wäre org wenn’s eine Abstimmungs-Funktion für ...   \n",
      "\n",
      "           crawled_at                                                url   \n",
      "0 2021-02-21 10:15:43  https://apps.apple.com/at/app/whatsapp-messeng...  \\\n",
      "1 2021-02-21 10:15:43  https://apps.apple.com/at/app/whatsapp-messeng...   \n",
      "2 2021-02-21 10:15:43  https://apps.apple.com/at/app/whatsapp-messeng...   \n",
      "3 2021-02-21 10:15:43  https://apps.apple.com/at/app/whatsapp-messeng...   \n",
      "4 2021-02-21 10:15:43  https://apps.apple.com/at/app/whatsapp-messeng...   \n",
      "\n",
      "      app_id country            app_name   \n",
      "0  310633997      at  whatsapp-messenger  \\\n",
      "1  310633997      at  whatsapp-messenger   \n",
      "2  310633997      at  whatsapp-messenger   \n",
      "3  310633997      at  whatsapp-messenger   \n",
      "4  310633997      at  whatsapp-messenger   \n",
      "\n",
      "                                    _id developerResponse  \n",
      "0  32f9ec7e-74de-578d-acf6-48d4182cae60               NaN  \n",
      "1  f89a85f6-437e-53f4-acd0-adda3ae5ab2e               NaN  \n",
      "2  65adfbd9-dbab-5ba8-8d40-d84dc7e8f515               NaN  \n",
      "3  da48ad1c-3977-5e9d-8d74-c84f62ec1830               NaN  \n",
      "4  eefd7e92-a6d2-55de-b14b-b00002fa8380               NaN  \n"
     ]
    }
   ],
   "source": [
    "df = pd.read_json('app_store_reviews_dataset.json')\n",
    "\n",
    "print(df.head())"
   ]
  },
  {
   "cell_type": "code",
   "execution_count": 3,
   "id": "c1ababea",
   "metadata": {
    "scrolled": false
   },
   "outputs": [
    {
     "data": {
      "text/html": [
       "<div>\n",
       "<style scoped>\n",
       "    .dataframe tbody tr th:only-of-type {\n",
       "        vertical-align: middle;\n",
       "    }\n",
       "\n",
       "    .dataframe tbody tr th {\n",
       "        vertical-align: top;\n",
       "    }\n",
       "\n",
       "    .dataframe thead th {\n",
       "        text-align: right;\n",
       "    }\n",
       "</style>\n",
       "<table border=\"1\" class=\"dataframe\">\n",
       "  <thead>\n",
       "    <tr style=\"text-align: right;\">\n",
       "      <th></th>\n",
       "      <th>date</th>\n",
       "      <th>userName</th>\n",
       "      <th>title</th>\n",
       "      <th>rating</th>\n",
       "      <th>isEdited</th>\n",
       "      <th>review</th>\n",
       "      <th>crawled_at</th>\n",
       "      <th>url</th>\n",
       "      <th>app_id</th>\n",
       "      <th>country</th>\n",
       "      <th>app_name</th>\n",
       "      <th>_id</th>\n",
       "      <th>developerResponse</th>\n",
       "    </tr>\n",
       "  </thead>\n",
       "  <tbody>\n",
       "    <tr>\n",
       "      <th>0</th>\n",
       "      <td>2017-09-08 11:58:17</td>\n",
       "      <td>Mika 👽</td>\n",
       "      <td>Dieser nervige Button 😂</td>\n",
       "      <td>5</td>\n",
       "      <td>false</td>\n",
       "      <td>Sehr gute App, erfüllt Ihren Zweck. Finde so g...</td>\n",
       "      <td>2021-02-21 10:15:43</td>\n",
       "      <td>https://apps.apple.com/at/app/whatsapp-messeng...</td>\n",
       "      <td>310633997</td>\n",
       "      <td>at</td>\n",
       "      <td>whatsapp-messenger</td>\n",
       "      <td>32f9ec7e-74de-578d-acf6-48d4182cae60</td>\n",
       "      <td>NaN</td>\n",
       "    </tr>\n",
       "    <tr>\n",
       "      <th>1</th>\n",
       "      <td>2017-09-06 15:32:26</td>\n",
       "      <td>Bilux1</td>\n",
       "      <td>Super App</td>\n",
       "      <td>5</td>\n",
       "      <td>false</td>\n",
       "      <td>Bester Messenger Dienst</td>\n",
       "      <td>2021-02-21 10:15:43</td>\n",
       "      <td>https://apps.apple.com/at/app/whatsapp-messeng...</td>\n",
       "      <td>310633997</td>\n",
       "      <td>at</td>\n",
       "      <td>whatsapp-messenger</td>\n",
       "      <td>f89a85f6-437e-53f4-acd0-adda3ae5ab2e</td>\n",
       "      <td>NaN</td>\n",
       "    </tr>\n",
       "    <tr>\n",
       "      <th>2</th>\n",
       "      <td>2021-01-08 22:31:30</td>\n",
       "      <td>Leberkasbepi</td>\n",
       "      <td>Tschüss</td>\n",
       "      <td>1</td>\n",
       "      <td>false</td>\n",
       "      <td>Wegen den neuen Richtlinien, werd ich WhatsApp...</td>\n",
       "      <td>2021-02-21 10:15:43</td>\n",
       "      <td>https://apps.apple.com/at/app/whatsapp-messeng...</td>\n",
       "      <td>310633997</td>\n",
       "      <td>at</td>\n",
       "      <td>whatsapp-messenger</td>\n",
       "      <td>65adfbd9-dbab-5ba8-8d40-d84dc7e8f515</td>\n",
       "      <td>NaN</td>\n",
       "    </tr>\n",
       "    <tr>\n",
       "      <th>3</th>\n",
       "      <td>2019-01-15 12:18:55</td>\n",
       "      <td>1an--na1</td>\n",
       "      <td>Gehört jzt zu facebook</td>\n",
       "      <td>1</td>\n",
       "      <td>false</td>\n",
       "      <td>Furchtbare datenschutzpolitik</td>\n",
       "      <td>2021-02-21 10:15:43</td>\n",
       "      <td>https://apps.apple.com/at/app/whatsapp-messeng...</td>\n",
       "      <td>310633997</td>\n",
       "      <td>at</td>\n",
       "      <td>whatsapp-messenger</td>\n",
       "      <td>da48ad1c-3977-5e9d-8d74-c84f62ec1830</td>\n",
       "      <td>NaN</td>\n",
       "    </tr>\n",
       "    <tr>\n",
       "      <th>4</th>\n",
       "      <td>2020-05-24 13:51:44</td>\n",
       "      <td>Bykslmddislnsvsj</td>\n",
       "      <td>.</td>\n",
       "      <td>4</td>\n",
       "      <td>false</td>\n",
       "      <td>Wäre org wenn’s eine Abstimmungs-Funktion für ...</td>\n",
       "      <td>2021-02-21 10:15:43</td>\n",
       "      <td>https://apps.apple.com/at/app/whatsapp-messeng...</td>\n",
       "      <td>310633997</td>\n",
       "      <td>at</td>\n",
       "      <td>whatsapp-messenger</td>\n",
       "      <td>eefd7e92-a6d2-55de-b14b-b00002fa8380</td>\n",
       "      <td>NaN</td>\n",
       "    </tr>\n",
       "    <tr>\n",
       "      <th>5</th>\n",
       "      <td>2019-12-01 22:19:31</td>\n",
       "      <td>_michelle2109_</td>\n",
       "      <td>Neues update - irritierendes Layout</td>\n",
       "      <td>3</td>\n",
       "      <td>false</td>\n",
       "      <td>Alle Funktionen sind super, nur ist das neue L...</td>\n",
       "      <td>2021-02-21 10:15:43</td>\n",
       "      <td>https://apps.apple.com/at/app/whatsapp-messeng...</td>\n",
       "      <td>310633997</td>\n",
       "      <td>at</td>\n",
       "      <td>whatsapp-messenger</td>\n",
       "      <td>3efdce34-daff-57a5-8000-3e2d4d28fe2e</td>\n",
       "      <td>NaN</td>\n",
       "    </tr>\n",
       "    <tr>\n",
       "      <th>6</th>\n",
       "      <td>2020-02-15 07:02:06</td>\n",
       "      <td>Tschinkolawente</td>\n",
       "      <td>WhatsApp—&gt;D A S  Lebenselixier....</td>\n",
       "      <td>5</td>\n",
       "      <td>false</td>\n",
       "      <td>Zum Vergnügen...zum StressAbbau ...zum Lachen....</td>\n",
       "      <td>2021-02-21 10:15:43</td>\n",
       "      <td>https://apps.apple.com/at/app/whatsapp-messeng...</td>\n",
       "      <td>310633997</td>\n",
       "      <td>at</td>\n",
       "      <td>whatsapp-messenger</td>\n",
       "      <td>5f855c28-ddc3-57df-a896-ae15aef01805</td>\n",
       "      <td>NaN</td>\n",
       "    </tr>\n",
       "    <tr>\n",
       "      <th>7</th>\n",
       "      <td>2021-01-09 18:24:23</td>\n",
       "      <td>stanhard</td>\n",
       "      <td>Signal</td>\n",
       "      <td>1</td>\n",
       "      <td>false</td>\n",
       "      <td>Use signal</td>\n",
       "      <td>2021-02-21 10:15:43</td>\n",
       "      <td>https://apps.apple.com/at/app/whatsapp-messeng...</td>\n",
       "      <td>310633997</td>\n",
       "      <td>at</td>\n",
       "      <td>whatsapp-messenger</td>\n",
       "      <td>40b925c4-c3e8-5c01-823b-f5f87822bf05</td>\n",
       "      <td>NaN</td>\n",
       "    </tr>\n",
       "    <tr>\n",
       "      <th>8</th>\n",
       "      <td>2021-01-08 19:57:44</td>\n",
       "      <td>Thomas_Wk</td>\n",
       "      <td>uses all of your data</td>\n",
       "      <td>1</td>\n",
       "      <td>false</td>\n",
       "      <td>uses all of your data</td>\n",
       "      <td>2021-02-21 10:15:43</td>\n",
       "      <td>https://apps.apple.com/at/app/whatsapp-messeng...</td>\n",
       "      <td>310633997</td>\n",
       "      <td>at</td>\n",
       "      <td>whatsapp-messenger</td>\n",
       "      <td>b43cf16e-786a-5e44-a9eb-eab545faf651</td>\n",
       "      <td>NaN</td>\n",
       "    </tr>\n",
       "    <tr>\n",
       "      <th>9</th>\n",
       "      <td>2019-12-02 20:41:08</td>\n",
       "      <td>toni_tonka</td>\n",
       "      <td>Altes design bitte wiederherstellen!</td>\n",
       "      <td>1</td>\n",
       "      <td>false</td>\n",
       "      <td>Bitte die blauen haeckchen zuruecksetzen, das ...</td>\n",
       "      <td>2021-02-21 10:15:43</td>\n",
       "      <td>https://apps.apple.com/at/app/whatsapp-messeng...</td>\n",
       "      <td>310633997</td>\n",
       "      <td>at</td>\n",
       "      <td>whatsapp-messenger</td>\n",
       "      <td>7958c78d-a777-50fc-ac56-43fe50b7b975</td>\n",
       "      <td>NaN</td>\n",
       "    </tr>\n",
       "  </tbody>\n",
       "</table>\n",
       "</div>"
      ],
      "text/plain": [
       "                 date          userName                                 title   \n",
       "0 2017-09-08 11:58:17            Mika 👽               Dieser nervige Button 😂  \\\n",
       "1 2017-09-06 15:32:26            Bilux1                             Super App   \n",
       "2 2021-01-08 22:31:30      Leberkasbepi                               Tschüss   \n",
       "3 2019-01-15 12:18:55          1an--na1                Gehört jzt zu facebook   \n",
       "4 2020-05-24 13:51:44  Bykslmddislnsvsj                                     .   \n",
       "5 2019-12-01 22:19:31    _michelle2109_   Neues update - irritierendes Layout   \n",
       "6 2020-02-15 07:02:06   Tschinkolawente    WhatsApp—>D A S  Lebenselixier....   \n",
       "7 2021-01-09 18:24:23          stanhard                                Signal   \n",
       "8 2021-01-08 19:57:44         Thomas_Wk                 uses all of your data   \n",
       "9 2019-12-02 20:41:08        toni_tonka  Altes design bitte wiederherstellen!   \n",
       "\n",
       "   rating isEdited                                             review   \n",
       "0       5    false  Sehr gute App, erfüllt Ihren Zweck. Finde so g...  \\\n",
       "1       5    false                            Bester Messenger Dienst   \n",
       "2       1    false  Wegen den neuen Richtlinien, werd ich WhatsApp...   \n",
       "3       1    false                      Furchtbare datenschutzpolitik   \n",
       "4       4    false  Wäre org wenn’s eine Abstimmungs-Funktion für ...   \n",
       "5       3    false  Alle Funktionen sind super, nur ist das neue L...   \n",
       "6       5    false  Zum Vergnügen...zum StressAbbau ...zum Lachen....   \n",
       "7       1    false                                         Use signal   \n",
       "8       1    false                              uses all of your data   \n",
       "9       1    false  Bitte die blauen haeckchen zuruecksetzen, das ...   \n",
       "\n",
       "           crawled_at                                                url   \n",
       "0 2021-02-21 10:15:43  https://apps.apple.com/at/app/whatsapp-messeng...  \\\n",
       "1 2021-02-21 10:15:43  https://apps.apple.com/at/app/whatsapp-messeng...   \n",
       "2 2021-02-21 10:15:43  https://apps.apple.com/at/app/whatsapp-messeng...   \n",
       "3 2021-02-21 10:15:43  https://apps.apple.com/at/app/whatsapp-messeng...   \n",
       "4 2021-02-21 10:15:43  https://apps.apple.com/at/app/whatsapp-messeng...   \n",
       "5 2021-02-21 10:15:43  https://apps.apple.com/at/app/whatsapp-messeng...   \n",
       "6 2021-02-21 10:15:43  https://apps.apple.com/at/app/whatsapp-messeng...   \n",
       "7 2021-02-21 10:15:43  https://apps.apple.com/at/app/whatsapp-messeng...   \n",
       "8 2021-02-21 10:15:43  https://apps.apple.com/at/app/whatsapp-messeng...   \n",
       "9 2021-02-21 10:15:43  https://apps.apple.com/at/app/whatsapp-messeng...   \n",
       "\n",
       "      app_id country            app_name   \n",
       "0  310633997      at  whatsapp-messenger  \\\n",
       "1  310633997      at  whatsapp-messenger   \n",
       "2  310633997      at  whatsapp-messenger   \n",
       "3  310633997      at  whatsapp-messenger   \n",
       "4  310633997      at  whatsapp-messenger   \n",
       "5  310633997      at  whatsapp-messenger   \n",
       "6  310633997      at  whatsapp-messenger   \n",
       "7  310633997      at  whatsapp-messenger   \n",
       "8  310633997      at  whatsapp-messenger   \n",
       "9  310633997      at  whatsapp-messenger   \n",
       "\n",
       "                                    _id developerResponse  \n",
       "0  32f9ec7e-74de-578d-acf6-48d4182cae60               NaN  \n",
       "1  f89a85f6-437e-53f4-acd0-adda3ae5ab2e               NaN  \n",
       "2  65adfbd9-dbab-5ba8-8d40-d84dc7e8f515               NaN  \n",
       "3  da48ad1c-3977-5e9d-8d74-c84f62ec1830               NaN  \n",
       "4  eefd7e92-a6d2-55de-b14b-b00002fa8380               NaN  \n",
       "5  3efdce34-daff-57a5-8000-3e2d4d28fe2e               NaN  \n",
       "6  5f855c28-ddc3-57df-a896-ae15aef01805               NaN  \n",
       "7  40b925c4-c3e8-5c01-823b-f5f87822bf05               NaN  \n",
       "8  b43cf16e-786a-5e44-a9eb-eab545faf651               NaN  \n",
       "9  7958c78d-a777-50fc-ac56-43fe50b7b975               NaN  "
      ]
     },
     "execution_count": 3,
     "metadata": {},
     "output_type": "execute_result"
    }
   ],
   "source": [
    "df.head(10)"
   ]
  },
  {
   "cell_type": "markdown",
   "id": "14cebc4e",
   "metadata": {},
   "source": [
    "# Filter data set"
   ]
  },
  {
   "cell_type": "code",
   "execution_count": 4,
   "id": "9b036f7e",
   "metadata": {},
   "outputs": [
    {
     "data": {
      "text/html": [
       "<div>\n",
       "<style scoped>\n",
       "    .dataframe tbody tr th:only-of-type {\n",
       "        vertical-align: middle;\n",
       "    }\n",
       "\n",
       "    .dataframe tbody tr th {\n",
       "        vertical-align: top;\n",
       "    }\n",
       "\n",
       "    .dataframe thead th {\n",
       "        text-align: right;\n",
       "    }\n",
       "</style>\n",
       "<table border=\"1\" class=\"dataframe\">\n",
       "  <thead>\n",
       "    <tr style=\"text-align: right;\">\n",
       "      <th></th>\n",
       "      <th>date</th>\n",
       "      <th>userName</th>\n",
       "      <th>title</th>\n",
       "      <th>rating</th>\n",
       "      <th>review</th>\n",
       "      <th>app_name</th>\n",
       "    </tr>\n",
       "  </thead>\n",
       "  <tbody>\n",
       "    <tr>\n",
       "      <th>0</th>\n",
       "      <td>2017-09-08 11:58:17</td>\n",
       "      <td>Mika 👽</td>\n",
       "      <td>Dieser nervige Button 😂</td>\n",
       "      <td>5</td>\n",
       "      <td>Sehr gute App, erfüllt Ihren Zweck. Finde so g...</td>\n",
       "      <td>whatsapp-messenger</td>\n",
       "    </tr>\n",
       "    <tr>\n",
       "      <th>1</th>\n",
       "      <td>2017-09-06 15:32:26</td>\n",
       "      <td>Bilux1</td>\n",
       "      <td>Super App</td>\n",
       "      <td>5</td>\n",
       "      <td>Bester Messenger Dienst</td>\n",
       "      <td>whatsapp-messenger</td>\n",
       "    </tr>\n",
       "    <tr>\n",
       "      <th>2</th>\n",
       "      <td>2021-01-08 22:31:30</td>\n",
       "      <td>Leberkasbepi</td>\n",
       "      <td>Tschüss</td>\n",
       "      <td>1</td>\n",
       "      <td>Wegen den neuen Richtlinien, werd ich WhatsApp...</td>\n",
       "      <td>whatsapp-messenger</td>\n",
       "    </tr>\n",
       "    <tr>\n",
       "      <th>3</th>\n",
       "      <td>2019-01-15 12:18:55</td>\n",
       "      <td>1an--na1</td>\n",
       "      <td>Gehört jzt zu facebook</td>\n",
       "      <td>1</td>\n",
       "      <td>Furchtbare datenschutzpolitik</td>\n",
       "      <td>whatsapp-messenger</td>\n",
       "    </tr>\n",
       "    <tr>\n",
       "      <th>4</th>\n",
       "      <td>2020-05-24 13:51:44</td>\n",
       "      <td>Bykslmddislnsvsj</td>\n",
       "      <td>.</td>\n",
       "      <td>4</td>\n",
       "      <td>Wäre org wenn’s eine Abstimmungs-Funktion für ...</td>\n",
       "      <td>whatsapp-messenger</td>\n",
       "    </tr>\n",
       "    <tr>\n",
       "      <th>...</th>\n",
       "      <td>...</td>\n",
       "      <td>...</td>\n",
       "      <td>...</td>\n",
       "      <td>...</td>\n",
       "      <td>...</td>\n",
       "      <td>...</td>\n",
       "    </tr>\n",
       "    <tr>\n",
       "      <th>10583</th>\n",
       "      <td>2011-06-22 11:57:44</td>\n",
       "      <td>Pamzwamz23</td>\n",
       "      <td>Wowza</td>\n",
       "      <td>5</td>\n",
       "      <td>This is a pretty gd game my sister told me to ...</td>\n",
       "      <td>talking-tom-cat-2</td>\n",
       "    </tr>\n",
       "    <tr>\n",
       "      <th>10584</th>\n",
       "      <td>2011-06-20 21:17:51</td>\n",
       "      <td>I love you so much.</td>\n",
       "      <td>tom the talking cat 2</td>\n",
       "      <td>5</td>\n",
       "      <td>I loved it how its soooo funny and it is much ...</td>\n",
       "      <td>talking-tom-cat-2</td>\n",
       "    </tr>\n",
       "    <tr>\n",
       "      <th>10585</th>\n",
       "      <td>2011-06-01 07:09:11</td>\n",
       "      <td>Asantha</td>\n",
       "      <td>Excellent app</td>\n",
       "      <td>5</td>\n",
       "      <td>Try this for your self.great for greetings!!!</td>\n",
       "      <td>talking-tom-cat-2</td>\n",
       "    </tr>\n",
       "    <tr>\n",
       "      <th>10586</th>\n",
       "      <td>2011-05-30 21:46:39</td>\n",
       "      <td>Frank Pittari</td>\n",
       "      <td>Worst game ever!</td>\n",
       "      <td>5</td>\n",
       "      <td>It suck u have to buy all these add-ons.</td>\n",
       "      <td>talking-tom-cat-2</td>\n",
       "    </tr>\n",
       "    <tr>\n",
       "      <th>10587</th>\n",
       "      <td>2011-05-28 21:26:48</td>\n",
       "      <td>gotcha2day</td>\n",
       "      <td>Mega jump</td>\n",
       "      <td>5</td>\n",
       "      <td>7ou2d mega jump code</td>\n",
       "      <td>talking-tom-cat-2</td>\n",
       "    </tr>\n",
       "  </tbody>\n",
       "</table>\n",
       "<p>10588 rows × 6 columns</p>\n",
       "</div>"
      ],
      "text/plain": [
       "                     date             userName                    title   \n",
       "0     2017-09-08 11:58:17               Mika 👽  Dieser nervige Button 😂  \\\n",
       "1     2017-09-06 15:32:26               Bilux1                Super App   \n",
       "2     2021-01-08 22:31:30         Leberkasbepi                  Tschüss   \n",
       "3     2019-01-15 12:18:55             1an--na1   Gehört jzt zu facebook   \n",
       "4     2020-05-24 13:51:44     Bykslmddislnsvsj                        .   \n",
       "...                   ...                  ...                      ...   \n",
       "10583 2011-06-22 11:57:44           Pamzwamz23                    Wowza   \n",
       "10584 2011-06-20 21:17:51  I love you so much.    tom the talking cat 2   \n",
       "10585 2011-06-01 07:09:11              Asantha            Excellent app   \n",
       "10586 2011-05-30 21:46:39        Frank Pittari         Worst game ever!   \n",
       "10587 2011-05-28 21:26:48           gotcha2day                Mega jump   \n",
       "\n",
       "       rating                                             review   \n",
       "0           5  Sehr gute App, erfüllt Ihren Zweck. Finde so g...  \\\n",
       "1           5                            Bester Messenger Dienst   \n",
       "2           1  Wegen den neuen Richtlinien, werd ich WhatsApp...   \n",
       "3           1                      Furchtbare datenschutzpolitik   \n",
       "4           4  Wäre org wenn’s eine Abstimmungs-Funktion für ...   \n",
       "...       ...                                                ...   \n",
       "10583       5  This is a pretty gd game my sister told me to ...   \n",
       "10584       5  I loved it how its soooo funny and it is much ...   \n",
       "10585       5      Try this for your self.great for greetings!!!   \n",
       "10586       5           It suck u have to buy all these add-ons.   \n",
       "10587       5                               7ou2d mega jump code   \n",
       "\n",
       "                 app_name  \n",
       "0      whatsapp-messenger  \n",
       "1      whatsapp-messenger  \n",
       "2      whatsapp-messenger  \n",
       "3      whatsapp-messenger  \n",
       "4      whatsapp-messenger  \n",
       "...                   ...  \n",
       "10583   talking-tom-cat-2  \n",
       "10584   talking-tom-cat-2  \n",
       "10585   talking-tom-cat-2  \n",
       "10586   talking-tom-cat-2  \n",
       "10587   talking-tom-cat-2  \n",
       "\n",
       "[10588 rows x 6 columns]"
      ]
     },
     "execution_count": 4,
     "metadata": {},
     "output_type": "execute_result"
    }
   ],
   "source": [
    "dff = df[['date','userName','title','rating','review','app_name']]\n",
    "\n",
    "dff"
   ]
  },
  {
   "cell_type": "markdown",
   "id": "75260d57",
   "metadata": {},
   "source": [
    "# Rename columns"
   ]
  },
  {
   "cell_type": "code",
   "execution_count": 5,
   "id": "c0eca9bf",
   "metadata": {},
   "outputs": [
    {
     "data": {
      "text/html": [
       "<div>\n",
       "<style scoped>\n",
       "    .dataframe tbody tr th:only-of-type {\n",
       "        vertical-align: middle;\n",
       "    }\n",
       "\n",
       "    .dataframe tbody tr th {\n",
       "        vertical-align: top;\n",
       "    }\n",
       "\n",
       "    .dataframe thead th {\n",
       "        text-align: right;\n",
       "    }\n",
       "</style>\n",
       "<table border=\"1\" class=\"dataframe\">\n",
       "  <thead>\n",
       "    <tr style=\"text-align: right;\">\n",
       "      <th></th>\n",
       "      <th>Year</th>\n",
       "      <th>Name</th>\n",
       "      <th>Subject</th>\n",
       "      <th>Rating</th>\n",
       "      <th>Review_Description</th>\n",
       "      <th>App</th>\n",
       "    </tr>\n",
       "  </thead>\n",
       "  <tbody>\n",
       "    <tr>\n",
       "      <th>0</th>\n",
       "      <td>2017-09-08 11:58:17</td>\n",
       "      <td>Mika 👽</td>\n",
       "      <td>Dieser nervige Button 😂</td>\n",
       "      <td>5</td>\n",
       "      <td>Sehr gute App, erfüllt Ihren Zweck. Finde so g...</td>\n",
       "      <td>whatsapp-messenger</td>\n",
       "    </tr>\n",
       "    <tr>\n",
       "      <th>1</th>\n",
       "      <td>2017-09-06 15:32:26</td>\n",
       "      <td>Bilux1</td>\n",
       "      <td>Super App</td>\n",
       "      <td>5</td>\n",
       "      <td>Bester Messenger Dienst</td>\n",
       "      <td>whatsapp-messenger</td>\n",
       "    </tr>\n",
       "    <tr>\n",
       "      <th>2</th>\n",
       "      <td>2021-01-08 22:31:30</td>\n",
       "      <td>Leberkasbepi</td>\n",
       "      <td>Tschüss</td>\n",
       "      <td>1</td>\n",
       "      <td>Wegen den neuen Richtlinien, werd ich WhatsApp...</td>\n",
       "      <td>whatsapp-messenger</td>\n",
       "    </tr>\n",
       "    <tr>\n",
       "      <th>3</th>\n",
       "      <td>2019-01-15 12:18:55</td>\n",
       "      <td>1an--na1</td>\n",
       "      <td>Gehört jzt zu facebook</td>\n",
       "      <td>1</td>\n",
       "      <td>Furchtbare datenschutzpolitik</td>\n",
       "      <td>whatsapp-messenger</td>\n",
       "    </tr>\n",
       "    <tr>\n",
       "      <th>4</th>\n",
       "      <td>2020-05-24 13:51:44</td>\n",
       "      <td>Bykslmddislnsvsj</td>\n",
       "      <td>.</td>\n",
       "      <td>4</td>\n",
       "      <td>Wäre org wenn’s eine Abstimmungs-Funktion für ...</td>\n",
       "      <td>whatsapp-messenger</td>\n",
       "    </tr>\n",
       "    <tr>\n",
       "      <th>...</th>\n",
       "      <td>...</td>\n",
       "      <td>...</td>\n",
       "      <td>...</td>\n",
       "      <td>...</td>\n",
       "      <td>...</td>\n",
       "      <td>...</td>\n",
       "    </tr>\n",
       "    <tr>\n",
       "      <th>10583</th>\n",
       "      <td>2011-06-22 11:57:44</td>\n",
       "      <td>Pamzwamz23</td>\n",
       "      <td>Wowza</td>\n",
       "      <td>5</td>\n",
       "      <td>This is a pretty gd game my sister told me to ...</td>\n",
       "      <td>talking-tom-cat-2</td>\n",
       "    </tr>\n",
       "    <tr>\n",
       "      <th>10584</th>\n",
       "      <td>2011-06-20 21:17:51</td>\n",
       "      <td>I love you so much.</td>\n",
       "      <td>tom the talking cat 2</td>\n",
       "      <td>5</td>\n",
       "      <td>I loved it how its soooo funny and it is much ...</td>\n",
       "      <td>talking-tom-cat-2</td>\n",
       "    </tr>\n",
       "    <tr>\n",
       "      <th>10585</th>\n",
       "      <td>2011-06-01 07:09:11</td>\n",
       "      <td>Asantha</td>\n",
       "      <td>Excellent app</td>\n",
       "      <td>5</td>\n",
       "      <td>Try this for your self.great for greetings!!!</td>\n",
       "      <td>talking-tom-cat-2</td>\n",
       "    </tr>\n",
       "    <tr>\n",
       "      <th>10586</th>\n",
       "      <td>2011-05-30 21:46:39</td>\n",
       "      <td>Frank Pittari</td>\n",
       "      <td>Worst game ever!</td>\n",
       "      <td>5</td>\n",
       "      <td>It suck u have to buy all these add-ons.</td>\n",
       "      <td>talking-tom-cat-2</td>\n",
       "    </tr>\n",
       "    <tr>\n",
       "      <th>10587</th>\n",
       "      <td>2011-05-28 21:26:48</td>\n",
       "      <td>gotcha2day</td>\n",
       "      <td>Mega jump</td>\n",
       "      <td>5</td>\n",
       "      <td>7ou2d mega jump code</td>\n",
       "      <td>talking-tom-cat-2</td>\n",
       "    </tr>\n",
       "  </tbody>\n",
       "</table>\n",
       "<p>10588 rows × 6 columns</p>\n",
       "</div>"
      ],
      "text/plain": [
       "                     Year                 Name                  Subject   \n",
       "0     2017-09-08 11:58:17               Mika 👽  Dieser nervige Button 😂  \\\n",
       "1     2017-09-06 15:32:26               Bilux1                Super App   \n",
       "2     2021-01-08 22:31:30         Leberkasbepi                  Tschüss   \n",
       "3     2019-01-15 12:18:55             1an--na1   Gehört jzt zu facebook   \n",
       "4     2020-05-24 13:51:44     Bykslmddislnsvsj                        .   \n",
       "...                   ...                  ...                      ...   \n",
       "10583 2011-06-22 11:57:44           Pamzwamz23                    Wowza   \n",
       "10584 2011-06-20 21:17:51  I love you so much.    tom the talking cat 2   \n",
       "10585 2011-06-01 07:09:11              Asantha            Excellent app   \n",
       "10586 2011-05-30 21:46:39        Frank Pittari         Worst game ever!   \n",
       "10587 2011-05-28 21:26:48           gotcha2day                Mega jump   \n",
       "\n",
       "       Rating                                 Review_Description   \n",
       "0           5  Sehr gute App, erfüllt Ihren Zweck. Finde so g...  \\\n",
       "1           5                            Bester Messenger Dienst   \n",
       "2           1  Wegen den neuen Richtlinien, werd ich WhatsApp...   \n",
       "3           1                      Furchtbare datenschutzpolitik   \n",
       "4           4  Wäre org wenn’s eine Abstimmungs-Funktion für ...   \n",
       "...       ...                                                ...   \n",
       "10583       5  This is a pretty gd game my sister told me to ...   \n",
       "10584       5  I loved it how its soooo funny and it is much ...   \n",
       "10585       5      Try this for your self.great for greetings!!!   \n",
       "10586       5           It suck u have to buy all these add-ons.   \n",
       "10587       5                               7ou2d mega jump code   \n",
       "\n",
       "                      App  \n",
       "0      whatsapp-messenger  \n",
       "1      whatsapp-messenger  \n",
       "2      whatsapp-messenger  \n",
       "3      whatsapp-messenger  \n",
       "4      whatsapp-messenger  \n",
       "...                   ...  \n",
       "10583   talking-tom-cat-2  \n",
       "10584   talking-tom-cat-2  \n",
       "10585   talking-tom-cat-2  \n",
       "10586   talking-tom-cat-2  \n",
       "10587   talking-tom-cat-2  \n",
       "\n",
       "[10588 rows x 6 columns]"
      ]
     },
     "execution_count": 5,
     "metadata": {},
     "output_type": "execute_result"
    }
   ],
   "source": [
    "dff = dff.rename(columns={'userName': 'Name'})\n",
    "\n",
    "dff = dff.rename(columns={'title': 'Subject'})\n",
    "\n",
    "dff = dff.rename(columns={'rating': 'Rating'})\n",
    "\n",
    "dff = dff.rename(columns={'review': 'Review_Description'})\n",
    "\n",
    "dff = dff.rename(columns={'app_name': 'App'})\n",
    "\n",
    "dff = dff.rename(columns={'date': 'Year'})\n",
    "\n",
    "dff"
   ]
  },
  {
   "cell_type": "markdown",
   "id": "bc12cf7d",
   "metadata": {},
   "source": [
    "# Clean data"
   ]
  },
  {
   "cell_type": "code",
   "execution_count": 6,
   "id": "d6a657b3",
   "metadata": {},
   "outputs": [
    {
     "data": {
      "text/html": [
       "<div>\n",
       "<style scoped>\n",
       "    .dataframe tbody tr th:only-of-type {\n",
       "        vertical-align: middle;\n",
       "    }\n",
       "\n",
       "    .dataframe tbody tr th {\n",
       "        vertical-align: top;\n",
       "    }\n",
       "\n",
       "    .dataframe thead th {\n",
       "        text-align: right;\n",
       "    }\n",
       "</style>\n",
       "<table border=\"1\" class=\"dataframe\">\n",
       "  <thead>\n",
       "    <tr style=\"text-align: right;\">\n",
       "      <th></th>\n",
       "      <th>Year</th>\n",
       "      <th>Name</th>\n",
       "      <th>Subject</th>\n",
       "      <th>Rating</th>\n",
       "      <th>Review_Description</th>\n",
       "      <th>App</th>\n",
       "    </tr>\n",
       "  </thead>\n",
       "  <tbody>\n",
       "    <tr>\n",
       "      <th>0</th>\n",
       "      <td>2017</td>\n",
       "      <td>Mika 👽</td>\n",
       "      <td>Dieser nervige Button 😂</td>\n",
       "      <td>5</td>\n",
       "      <td>Sehr gute App, erfüllt Ihren Zweck. Finde so g...</td>\n",
       "      <td>whatsapp-messenger</td>\n",
       "    </tr>\n",
       "    <tr>\n",
       "      <th>1</th>\n",
       "      <td>2017</td>\n",
       "      <td>Bilux1</td>\n",
       "      <td>Super App</td>\n",
       "      <td>5</td>\n",
       "      <td>Bester Messenger Dienst</td>\n",
       "      <td>whatsapp-messenger</td>\n",
       "    </tr>\n",
       "    <tr>\n",
       "      <th>2</th>\n",
       "      <td>2021</td>\n",
       "      <td>Leberkasbepi</td>\n",
       "      <td>Tschüss</td>\n",
       "      <td>1</td>\n",
       "      <td>Wegen den neuen Richtlinien, werd ich WhatsApp...</td>\n",
       "      <td>whatsapp-messenger</td>\n",
       "    </tr>\n",
       "    <tr>\n",
       "      <th>3</th>\n",
       "      <td>2019</td>\n",
       "      <td>1an--na1</td>\n",
       "      <td>Gehört jzt zu facebook</td>\n",
       "      <td>1</td>\n",
       "      <td>Furchtbare datenschutzpolitik</td>\n",
       "      <td>whatsapp-messenger</td>\n",
       "    </tr>\n",
       "    <tr>\n",
       "      <th>4</th>\n",
       "      <td>2020</td>\n",
       "      <td>Bykslmddislnsvsj</td>\n",
       "      <td>.</td>\n",
       "      <td>4</td>\n",
       "      <td>Wäre org wenn’s eine Abstimmungs-Funktion für ...</td>\n",
       "      <td>whatsapp-messenger</td>\n",
       "    </tr>\n",
       "    <tr>\n",
       "      <th>...</th>\n",
       "      <td>...</td>\n",
       "      <td>...</td>\n",
       "      <td>...</td>\n",
       "      <td>...</td>\n",
       "      <td>...</td>\n",
       "      <td>...</td>\n",
       "    </tr>\n",
       "    <tr>\n",
       "      <th>10583</th>\n",
       "      <td>2011</td>\n",
       "      <td>Pamzwamz23</td>\n",
       "      <td>Wowza</td>\n",
       "      <td>5</td>\n",
       "      <td>This is a pretty gd game my sister told me to ...</td>\n",
       "      <td>talking-tom-cat-2</td>\n",
       "    </tr>\n",
       "    <tr>\n",
       "      <th>10584</th>\n",
       "      <td>2011</td>\n",
       "      <td>I love you so much.</td>\n",
       "      <td>tom the talking cat 2</td>\n",
       "      <td>5</td>\n",
       "      <td>I loved it how its soooo funny and it is much ...</td>\n",
       "      <td>talking-tom-cat-2</td>\n",
       "    </tr>\n",
       "    <tr>\n",
       "      <th>10585</th>\n",
       "      <td>2011</td>\n",
       "      <td>Asantha</td>\n",
       "      <td>Excellent app</td>\n",
       "      <td>5</td>\n",
       "      <td>Try this for your self.great for greetings!!!</td>\n",
       "      <td>talking-tom-cat-2</td>\n",
       "    </tr>\n",
       "    <tr>\n",
       "      <th>10586</th>\n",
       "      <td>2011</td>\n",
       "      <td>Frank Pittari</td>\n",
       "      <td>Worst game ever!</td>\n",
       "      <td>5</td>\n",
       "      <td>It suck u have to buy all these add-ons.</td>\n",
       "      <td>talking-tom-cat-2</td>\n",
       "    </tr>\n",
       "    <tr>\n",
       "      <th>10587</th>\n",
       "      <td>2011</td>\n",
       "      <td>gotcha2day</td>\n",
       "      <td>Mega jump</td>\n",
       "      <td>5</td>\n",
       "      <td>7ou2d mega jump code</td>\n",
       "      <td>talking-tom-cat-2</td>\n",
       "    </tr>\n",
       "  </tbody>\n",
       "</table>\n",
       "<p>10588 rows × 6 columns</p>\n",
       "</div>"
      ],
      "text/plain": [
       "       Year                 Name                  Subject  Rating   \n",
       "0      2017               Mika 👽  Dieser nervige Button 😂       5  \\\n",
       "1      2017               Bilux1                Super App       5   \n",
       "2      2021         Leberkasbepi                  Tschüss       1   \n",
       "3      2019             1an--na1   Gehört jzt zu facebook       1   \n",
       "4      2020     Bykslmddislnsvsj                        .       4   \n",
       "...     ...                  ...                      ...     ...   \n",
       "10583  2011           Pamzwamz23                    Wowza       5   \n",
       "10584  2011  I love you so much.    tom the talking cat 2       5   \n",
       "10585  2011              Asantha            Excellent app       5   \n",
       "10586  2011        Frank Pittari         Worst game ever!       5   \n",
       "10587  2011           gotcha2day                Mega jump       5   \n",
       "\n",
       "                                      Review_Description                 App  \n",
       "0      Sehr gute App, erfüllt Ihren Zweck. Finde so g...  whatsapp-messenger  \n",
       "1                                Bester Messenger Dienst  whatsapp-messenger  \n",
       "2      Wegen den neuen Richtlinien, werd ich WhatsApp...  whatsapp-messenger  \n",
       "3                          Furchtbare datenschutzpolitik  whatsapp-messenger  \n",
       "4      Wäre org wenn’s eine Abstimmungs-Funktion für ...  whatsapp-messenger  \n",
       "...                                                  ...                 ...  \n",
       "10583  This is a pretty gd game my sister told me to ...   talking-tom-cat-2  \n",
       "10584  I loved it how its soooo funny and it is much ...   talking-tom-cat-2  \n",
       "10585      Try this for your self.great for greetings!!!   talking-tom-cat-2  \n",
       "10586           It suck u have to buy all these add-ons.   talking-tom-cat-2  \n",
       "10587                               7ou2d mega jump code   talking-tom-cat-2  \n",
       "\n",
       "[10588 rows x 6 columns]"
      ]
     },
     "execution_count": 6,
     "metadata": {},
     "output_type": "execute_result"
    }
   ],
   "source": [
    "# extract the year from the \"Year\" column\n",
    "dff['Year'] = pd.to_datetime(dff['Year']).dt.year\n",
    "\n",
    "dff"
   ]
  },
  {
   "cell_type": "markdown",
   "id": "717e7236",
   "metadata": {},
   "source": [
    "# Filter out non-English Reviews"
   ]
  },
  {
   "cell_type": "code",
   "execution_count": 7,
   "id": "18ffdc8c",
   "metadata": {},
   "outputs": [],
   "source": [
    "from langdetect import detect\n",
    "\n",
    "# Define a function to detect the language of a text\n",
    "def detect_language(text):\n",
    "    try:\n",
    "        return detect(text)\n",
    "    except:\n",
    "        return None\n",
    "\n",
    "# Apply the function to the 'Review_Description' column and create a new column 'Language'\n",
    "dff['lang'] = dff['Review_Description'].apply(detect_language)\n",
    "\n",
    "# Filter out non-English reviews\n",
    "dff = dff[dff['lang'] == 'en']\n",
    "\n",
    "\n"
   ]
  },
  {
   "cell_type": "code",
   "execution_count": null,
   "id": "1a47137a",
   "metadata": {},
   "outputs": [],
   "source": []
  },
  {
   "cell_type": "markdown",
   "id": "cbbbec67",
   "metadata": {},
   "source": [
    "# Classify sentiment using keywords"
   ]
  },
  {
   "cell_type": "code",
   "execution_count": 8,
   "id": "c0b66711",
   "metadata": {
    "scrolled": false
   },
   "outputs": [
    {
     "name": "stderr",
     "output_type": "stream",
     "text": [
      "/var/folders/z9/bxhfmgq12b71v7kt2kbdqyv00000gn/T/ipykernel_66064/3385116968.py:13: SettingWithCopyWarning: \n",
      "A value is trying to be set on a copy of a slice from a DataFrame.\n",
      "Try using .loc[row_indexer,col_indexer] = value instead\n",
      "\n",
      "See the caveats in the documentation: https://pandas.pydata.org/pandas-docs/stable/user_guide/indexing.html#returning-a-view-versus-a-copy\n",
      "  dff['Review_Description_Sentiment'] = dff['Review_Description'].apply(classify_sentiment)\n",
      "/var/folders/z9/bxhfmgq12b71v7kt2kbdqyv00000gn/T/ipykernel_66064/3385116968.py:14: SettingWithCopyWarning: \n",
      "A value is trying to be set on a copy of a slice from a DataFrame.\n",
      "Try using .loc[row_indexer,col_indexer] = value instead\n",
      "\n",
      "See the caveats in the documentation: https://pandas.pydata.org/pandas-docs/stable/user_guide/indexing.html#returning-a-view-versus-a-copy\n",
      "  dff['Subject_Sentiment'] = dff['Subject'].apply(classify_sentiment)\n"
     ]
    }
   ],
   "source": [
    "def classify_sentiment(text):\n",
    "    positive_keywords = ['great', 'awesome', 'fantastic', 'amazing', 'excellent', 'love', 'easy', 'user-friendly', 'efficient', 'effective', 'fast', 'reliable', 'fun', 'addictive', 'innovative', 'helpful', 'responsive', 'satisfying']\n",
    "    negative_keywords = ['bad', 'terrible', 'poor', 'disappointing', 'frustrating', 'confusing', 'difficult', 'slow', 'buggy', 'glitchy', 'crashes', 'outdated', 'ugly', 'expensive', 'overpriced', 'useless', 'disappointing', 'waste', 'spam']\n",
    "\n",
    "    for word in text.split():\n",
    "        if word in positive_keywords:\n",
    "            return 'positive'\n",
    "        elif word in negative_keywords:\n",
    "            return 'negative'\n",
    "    return 'neutral'\n",
    "\n",
    "# Apply the classify_sentiment function to both the \"Review_Description\" and \"Subject\" columns\n",
    "dff['Review_Description_Sentiment'] = dff['Review_Description'].apply(classify_sentiment)\n",
    "dff['Subject_Sentiment'] = dff['Subject'].apply(classify_sentiment)\n",
    "\n",
    "\n",
    "\n"
   ]
  },
  {
   "cell_type": "markdown",
   "id": "e54562bf",
   "metadata": {},
   "source": [
    "# Processed data set ready for analysis"
   ]
  },
  {
   "cell_type": "code",
   "execution_count": 17,
   "id": "8ef9179a",
   "metadata": {},
   "outputs": [
    {
     "data": {
      "text/html": [
       "<div>\n",
       "<style scoped>\n",
       "    .dataframe tbody tr th:only-of-type {\n",
       "        vertical-align: middle;\n",
       "    }\n",
       "\n",
       "    .dataframe tbody tr th {\n",
       "        vertical-align: top;\n",
       "    }\n",
       "\n",
       "    .dataframe thead th {\n",
       "        text-align: right;\n",
       "    }\n",
       "</style>\n",
       "<table border=\"1\" class=\"dataframe\">\n",
       "  <thead>\n",
       "    <tr style=\"text-align: right;\">\n",
       "      <th></th>\n",
       "      <th>Year</th>\n",
       "      <th>Name</th>\n",
       "      <th>Subject</th>\n",
       "      <th>Rating</th>\n",
       "      <th>Review_Description</th>\n",
       "      <th>App</th>\n",
       "      <th>Review_Description_Sentiment</th>\n",
       "      <th>Subject_Sentiment</th>\n",
       "    </tr>\n",
       "  </thead>\n",
       "  <tbody>\n",
       "    <tr>\n",
       "      <th>8</th>\n",
       "      <td>2021</td>\n",
       "      <td>Thomas_Wk</td>\n",
       "      <td>uses all of your data</td>\n",
       "      <td>1</td>\n",
       "      <td>uses all of your data</td>\n",
       "      <td>whatsapp-messenger</td>\n",
       "      <td>neutral</td>\n",
       "      <td>neutral</td>\n",
       "    </tr>\n",
       "    <tr>\n",
       "      <th>17</th>\n",
       "      <td>2020</td>\n",
       "      <td>beeeeennk</td>\n",
       "      <td>Dark Mode!!!</td>\n",
       "      <td>1</td>\n",
       "      <td>Everyone is waiting for the dark mode</td>\n",
       "      <td>whatsapp-messenger</td>\n",
       "      <td>neutral</td>\n",
       "      <td>neutral</td>\n",
       "    </tr>\n",
       "    <tr>\n",
       "      <th>38</th>\n",
       "      <td>2019</td>\n",
       "      <td>1458943a</td>\n",
       "      <td>Hi</td>\n",
       "      <td>1</td>\n",
       "      <td>Please add dark mode!</td>\n",
       "      <td>whatsapp-messenger</td>\n",
       "      <td>neutral</td>\n",
       "      <td>neutral</td>\n",
       "    </tr>\n",
       "    <tr>\n",
       "      <th>51</th>\n",
       "      <td>2021</td>\n",
       "      <td>I love animals 💖</td>\n",
       "      <td>⭐️⭐️⭐️⭐️⭐️</td>\n",
       "      <td>5</td>\n",
       "      <td>Perfect app I love it 😻</td>\n",
       "      <td>whatsapp-messenger</td>\n",
       "      <td>positive</td>\n",
       "      <td>neutral</td>\n",
       "    </tr>\n",
       "    <tr>\n",
       "      <th>53</th>\n",
       "      <td>2021</td>\n",
       "      <td>chris trump</td>\n",
       "      <td>Good bye..</td>\n",
       "      <td>1</td>\n",
       "      <td>.. and hello Telegram :)</td>\n",
       "      <td>whatsapp-messenger</td>\n",
       "      <td>neutral</td>\n",
       "      <td>neutral</td>\n",
       "    </tr>\n",
       "    <tr>\n",
       "      <th>...</th>\n",
       "      <td>...</td>\n",
       "      <td>...</td>\n",
       "      <td>...</td>\n",
       "      <td>...</td>\n",
       "      <td>...</td>\n",
       "      <td>...</td>\n",
       "      <td>...</td>\n",
       "      <td>...</td>\n",
       "    </tr>\n",
       "    <tr>\n",
       "      <th>10582</th>\n",
       "      <td>2011</td>\n",
       "      <td>][\\/][ ][&gt;</td>\n",
       "      <td>Good and funny app</td>\n",
       "      <td>5</td>\n",
       "      <td>No words to say! Best of luck for the app crea...</td>\n",
       "      <td>talking-tom-cat-2</td>\n",
       "      <td>neutral</td>\n",
       "      <td>neutral</td>\n",
       "    </tr>\n",
       "    <tr>\n",
       "      <th>10583</th>\n",
       "      <td>2011</td>\n",
       "      <td>Pamzwamz23</td>\n",
       "      <td>Wowza</td>\n",
       "      <td>5</td>\n",
       "      <td>This is a pretty gd game my sister told me to ...</td>\n",
       "      <td>talking-tom-cat-2</td>\n",
       "      <td>positive</td>\n",
       "      <td>neutral</td>\n",
       "    </tr>\n",
       "    <tr>\n",
       "      <th>10584</th>\n",
       "      <td>2011</td>\n",
       "      <td>I love you so much.</td>\n",
       "      <td>tom the talking cat 2</td>\n",
       "      <td>5</td>\n",
       "      <td>I loved it how its soooo funny and it is much ...</td>\n",
       "      <td>talking-tom-cat-2</td>\n",
       "      <td>positive</td>\n",
       "      <td>neutral</td>\n",
       "    </tr>\n",
       "    <tr>\n",
       "      <th>10585</th>\n",
       "      <td>2011</td>\n",
       "      <td>Asantha</td>\n",
       "      <td>Excellent app</td>\n",
       "      <td>5</td>\n",
       "      <td>Try this for your self.great for greetings!!!</td>\n",
       "      <td>talking-tom-cat-2</td>\n",
       "      <td>neutral</td>\n",
       "      <td>neutral</td>\n",
       "    </tr>\n",
       "    <tr>\n",
       "      <th>10586</th>\n",
       "      <td>2011</td>\n",
       "      <td>Frank Pittari</td>\n",
       "      <td>Worst game ever!</td>\n",
       "      <td>5</td>\n",
       "      <td>It suck u have to buy all these add-ons.</td>\n",
       "      <td>talking-tom-cat-2</td>\n",
       "      <td>neutral</td>\n",
       "      <td>neutral</td>\n",
       "    </tr>\n",
       "  </tbody>\n",
       "</table>\n",
       "<p>2098 rows × 8 columns</p>\n",
       "</div>"
      ],
      "text/plain": [
       "       Year                 Name                Subject  Rating   \n",
       "8      2021            Thomas_Wk  uses all of your data       1  \\\n",
       "17     2020            beeeeennk           Dark Mode!!!       1   \n",
       "38     2019             1458943a                     Hi       1   \n",
       "51     2021     I love animals 💖             ⭐️⭐️⭐️⭐️⭐️       5   \n",
       "53     2021          chris trump             Good bye..       1   \n",
       "...     ...                  ...                    ...     ...   \n",
       "10582  2011           ][\\/][ ][>     Good and funny app       5   \n",
       "10583  2011           Pamzwamz23                  Wowza       5   \n",
       "10584  2011  I love you so much.  tom the talking cat 2       5   \n",
       "10585  2011              Asantha          Excellent app       5   \n",
       "10586  2011        Frank Pittari       Worst game ever!       5   \n",
       "\n",
       "                                      Review_Description                 App   \n",
       "8                                  uses all of your data  whatsapp-messenger  \\\n",
       "17                 Everyone is waiting for the dark mode  whatsapp-messenger   \n",
       "38                                 Please add dark mode!  whatsapp-messenger   \n",
       "51                               Perfect app I love it 😻  whatsapp-messenger   \n",
       "53                              .. and hello Telegram :)  whatsapp-messenger   \n",
       "...                                                  ...                 ...   \n",
       "10582  No words to say! Best of luck for the app crea...   talking-tom-cat-2   \n",
       "10583  This is a pretty gd game my sister told me to ...   talking-tom-cat-2   \n",
       "10584  I loved it how its soooo funny and it is much ...   talking-tom-cat-2   \n",
       "10585      Try this for your self.great for greetings!!!   talking-tom-cat-2   \n",
       "10586           It suck u have to buy all these add-ons.   talking-tom-cat-2   \n",
       "\n",
       "      Review_Description_Sentiment Subject_Sentiment  \n",
       "8                          neutral           neutral  \n",
       "17                         neutral           neutral  \n",
       "38                         neutral           neutral  \n",
       "51                        positive           neutral  \n",
       "53                         neutral           neutral  \n",
       "...                            ...               ...  \n",
       "10582                      neutral           neutral  \n",
       "10583                     positive           neutral  \n",
       "10584                     positive           neutral  \n",
       "10585                      neutral           neutral  \n",
       "10586                      neutral           neutral  \n",
       "\n",
       "[2098 rows x 8 columns]"
      ]
     },
     "execution_count": 17,
     "metadata": {},
     "output_type": "execute_result"
    }
   ],
   "source": [
    "\n",
    "dff"
   ]
  },
  {
   "cell_type": "markdown",
   "id": "cfc18c49",
   "metadata": {},
   "source": [
    "# SQL Queries for Analysis"
   ]
  },
  {
   "cell_type": "code",
   "execution_count": 14,
   "id": "ffbae366",
   "metadata": {},
   "outputs": [],
   "source": [
    "from pandasql import sqldf \n",
    "\n",
    "import matplotlib.pyplot as plt"
   ]
  },
  {
   "cell_type": "markdown",
   "id": "7eefec7c",
   "metadata": {},
   "source": [
    "# Use a CASE statement to determine Overall User Sentiment"
   ]
  },
  {
   "cell_type": "code",
   "execution_count": 27,
   "id": "30dd80fd",
   "metadata": {},
   "outputs": [
    {
     "data": {
      "text/html": [
       "<div>\n",
       "<style scoped>\n",
       "    .dataframe tbody tr th:only-of-type {\n",
       "        vertical-align: middle;\n",
       "    }\n",
       "\n",
       "    .dataframe tbody tr th {\n",
       "        vertical-align: top;\n",
       "    }\n",
       "\n",
       "    .dataframe thead th {\n",
       "        text-align: right;\n",
       "    }\n",
       "</style>\n",
       "<table border=\"1\" class=\"dataframe\">\n",
       "  <thead>\n",
       "    <tr style=\"text-align: right;\">\n",
       "      <th></th>\n",
       "      <th>Year</th>\n",
       "      <th>App</th>\n",
       "      <th>Overall_Sentiment</th>\n",
       "    </tr>\n",
       "  </thead>\n",
       "  <tbody>\n",
       "    <tr>\n",
       "      <th>0</th>\n",
       "      <td>2021</td>\n",
       "      <td>whatsapp-messenger</td>\n",
       "      <td>neutral</td>\n",
       "    </tr>\n",
       "    <tr>\n",
       "      <th>1</th>\n",
       "      <td>2020</td>\n",
       "      <td>whatsapp-messenger</td>\n",
       "      <td>neutral</td>\n",
       "    </tr>\n",
       "    <tr>\n",
       "      <th>2</th>\n",
       "      <td>2019</td>\n",
       "      <td>whatsapp-messenger</td>\n",
       "      <td>neutral</td>\n",
       "    </tr>\n",
       "    <tr>\n",
       "      <th>3</th>\n",
       "      <td>2021</td>\n",
       "      <td>whatsapp-messenger</td>\n",
       "      <td>positive</td>\n",
       "    </tr>\n",
       "    <tr>\n",
       "      <th>4</th>\n",
       "      <td>2021</td>\n",
       "      <td>whatsapp-messenger</td>\n",
       "      <td>neutral</td>\n",
       "    </tr>\n",
       "    <tr>\n",
       "      <th>...</th>\n",
       "      <td>...</td>\n",
       "      <td>...</td>\n",
       "      <td>...</td>\n",
       "    </tr>\n",
       "    <tr>\n",
       "      <th>2093</th>\n",
       "      <td>2011</td>\n",
       "      <td>talking-tom-cat-2</td>\n",
       "      <td>neutral</td>\n",
       "    </tr>\n",
       "    <tr>\n",
       "      <th>2094</th>\n",
       "      <td>2011</td>\n",
       "      <td>talking-tom-cat-2</td>\n",
       "      <td>positive</td>\n",
       "    </tr>\n",
       "    <tr>\n",
       "      <th>2095</th>\n",
       "      <td>2011</td>\n",
       "      <td>talking-tom-cat-2</td>\n",
       "      <td>positive</td>\n",
       "    </tr>\n",
       "    <tr>\n",
       "      <th>2096</th>\n",
       "      <td>2011</td>\n",
       "      <td>talking-tom-cat-2</td>\n",
       "      <td>neutral</td>\n",
       "    </tr>\n",
       "    <tr>\n",
       "      <th>2097</th>\n",
       "      <td>2011</td>\n",
       "      <td>talking-tom-cat-2</td>\n",
       "      <td>neutral</td>\n",
       "    </tr>\n",
       "  </tbody>\n",
       "</table>\n",
       "<p>2098 rows × 3 columns</p>\n",
       "</div>"
      ],
      "text/plain": [
       "      Year                 App Overall_Sentiment\n",
       "0     2021  whatsapp-messenger           neutral\n",
       "1     2020  whatsapp-messenger           neutral\n",
       "2     2019  whatsapp-messenger           neutral\n",
       "3     2021  whatsapp-messenger          positive\n",
       "4     2021  whatsapp-messenger           neutral\n",
       "...    ...                 ...               ...\n",
       "2093  2011   talking-tom-cat-2           neutral\n",
       "2094  2011   talking-tom-cat-2          positive\n",
       "2095  2011   talking-tom-cat-2          positive\n",
       "2096  2011   talking-tom-cat-2           neutral\n",
       "2097  2011   talking-tom-cat-2           neutral\n",
       "\n",
       "[2098 rows x 3 columns]"
      ]
     },
     "execution_count": 27,
     "metadata": {},
     "output_type": "execute_result"
    }
   ],
   "source": [
    "# define the SQL query as a string\n",
    "casequery = \"\"\"\n",
    "SELECT Year, App, \n",
    "CASE\n",
    "WHEN Review_Description_Sentiment = 'positive' and Subject_Sentiment = 'positive' THEN 'positive'\n",
    "WHEN Review_Description_Sentiment = 'positive' and Subject_Sentiment = 'neutral' THEN 'positive'\n",
    "WHEN Review_Description_Sentiment = 'neutral' and Subject_Sentiment = 'positive' THEN 'positive'\n",
    "WHEN Review_Description_Sentiment = 'negative' and Subject_Sentiment = 'negative' THEN 'negative'\n",
    "WHEN Review_Description_Sentiment = 'negative' and Subject_Sentiment = 'neutral' THEN 'negative'\n",
    "WHEN Review_Description_Sentiment = 'neutral'and Subject_Sentiment = 'negative' THEN 'negative'\n",
    "ELSE 'neutral'\n",
    "END AS Overall_Sentiment\n",
    "FROM dff\n",
    "\n",
    "\"\"\"\n",
    "\n",
    "# execute the query using sqldf\n",
    "caseresult = sqldf(casequery)\n",
    "\n",
    "caseresult\n",
    "\n",
    "\n"
   ]
  },
  {
   "cell_type": "code",
   "execution_count": 29,
   "id": "debc1e05",
   "metadata": {},
   "outputs": [],
   "source": [
    "newdf = caseresult\n",
    "\n"
   ]
  },
  {
   "cell_type": "markdown",
   "id": "cb121f71",
   "metadata": {},
   "source": [
    "# Whatsapp App Analysis "
   ]
  },
  {
   "cell_type": "markdown",
   "id": "087f6809",
   "metadata": {},
   "source": [
    "# Sentiment Distribution "
   ]
  },
  {
   "cell_type": "code",
   "execution_count": 78,
   "id": "0e759418",
   "metadata": {},
   "outputs": [
    {
     "name": "stdout",
     "output_type": "stream",
     "text": [
      "                  App Overall_Sentiment  Number_Of_Reviews\n",
      "0  whatsapp-messenger          negative                 17\n",
      "1  whatsapp-messenger           neutral                723\n",
      "2  whatsapp-messenger          positive                 92\n"
     ]
    }
   ],
   "source": [
    "# define the SQL query as a string\n",
    "query1 = \"\"\"\n",
    "SELECT App, Overall_Sentiment, COUNT(Overall_Sentiment) as Number_Of_Reviews\n",
    "FROM newdf\n",
    "WHERE App = 'whatsapp-messenger'\n",
    "GROUP BY App, Overall_Sentiment\n",
    "\"\"\"\n",
    "\n",
    "# execute the query using sqldf\n",
    "result1 = sqldf(query1)\n",
    "\n",
    "# view the result\n",
    "print(result1)"
   ]
  },
  {
   "cell_type": "markdown",
   "id": "05af85ac",
   "metadata": {},
   "source": [
    "# Visualization"
   ]
  },
  {
   "cell_type": "code",
   "execution_count": 84,
   "id": "887c9def",
   "metadata": {},
   "outputs": [
    {
     "data": {
      "image/png": "[encoded data removed]",
      "text/plain": [
       "<Figure size 640x480 with 1 Axes>"
      ]
     },
     "metadata": {},
     "output_type": "display_data"
    },
    {
     "data": {
      "image/png": "[encoded data removed]",
      "text/plain": [
       "<Figure size 640x480 with 1 Axes>"
      ]
     },
     "metadata": {},
     "output_type": "display_data"
    }
   ],
   "source": [
    "# create a bar chart\n",
    "fig, ax = plt.subplots()\n",
    "ax.bar(result1['Overall_Sentiment'], result1['Number_Of_Reviews'], color=['lightgreen', 'coral', 'lightskyblue'])\n",
    "ax.set_xlabel('User Sentiment')\n",
    "ax.set_ylabel('Number of Reviews')\n",
    "ax.set_title('Sentiment Analysis for WhatsApp Messenger Reviews')\n",
    "plt.show()\n",
    "\n",
    "# create a pie chart\n",
    "fig, ax = plt.subplots()\n",
    "ax.pie(result1['Number_Of_Reviews'], labels=result1['Overall_Sentiment'], autopct='%1.1f%%')\n",
    "ax.set_title('Sentiment Analysis for WhatsApp Messenger Reviews')\n",
    "plt.show()"
   ]
  },
  {
   "cell_type": "markdown",
   "id": "0de2a0be",
   "metadata": {},
   "source": [
    "# Sentiment Distribution Trend 2010-2020\n"
   ]
  },
  {
   "cell_type": "code",
   "execution_count": 77,
   "id": "b28aeef2",
   "metadata": {},
   "outputs": [
    {
     "name": "stdout",
     "output_type": "stream",
     "text": [
      "                  App Overall_Sentiment  Number_Of_Reviews  Year\n",
      "0  whatsapp-messenger           neutral                  5  2009\n",
      "1  whatsapp-messenger          positive                  1  2009\n",
      "2  whatsapp-messenger           neutral                 10  2010\n",
      "3  whatsapp-messenger          positive                  3  2010\n",
      "4  whatsapp-messenger          negative                  1  2011\n"
     ]
    }
   ],
   "source": [
    "# define the SQL query as a string\n",
    "newquery = \"\"\"\n",
    "SELECT App, Overall_Sentiment, COUNT(Overall_Sentiment) as Number_Of_Reviews, Year\n",
    "FROM newdf\n",
    "WHERE App = 'whatsapp-messenger'\n",
    "GROUP BY Year, Overall_Sentiment\n",
    "\"\"\"\n",
    "\n",
    "# execute the query using sqldf\n",
    "newresult = sqldf(newquery)\n",
    "\n",
    "# view the result\n",
    "print(newresult.head())"
   ]
  },
  {
   "cell_type": "code",
   "execution_count": 61,
   "id": "8e6a7020",
   "metadata": {},
   "outputs": [
    {
     "data": {
      "image/png": "[encoded data removed]",
      "text/plain": [
       "<Figure size 640x480 with 1 Axes>"
      ]
     },
     "metadata": {},
     "output_type": "display_data"
    }
   ],
   "source": [
    "# pivot the result to create separate columns for each sentiment\n",
    "newresult_pivot = newresult.pivot(index='Year', columns='Overall_Sentiment', values='Sentiments')\n",
    "\n",
    "# create a line graph with customized colors\n",
    "fig, ax = plt.subplots()\n",
    "newresult_pivot.plot(ax=ax, kind='line', style=['-', '-', '-'], color=['red', 'blue', 'green'])\n",
    "\n",
    "# add labels and title\n",
    "ax.set_xlabel('Year')\n",
    "ax.set_ylabel('Number of Reviews')\n",
    "ax.set_title('Whatsapp Sentiment Review Trend 2010-2020')\n",
    "\n",
    "# show the plot\n",
    "plt.show()"
   ]
  },
  {
   "cell_type": "markdown",
   "id": "34d777f8",
   "metadata": {},
   "source": [
    "# Rating Distribution "
   ]
  },
  {
   "cell_type": "code",
   "execution_count": 75,
   "id": "9d5f6bdd",
   "metadata": {
    "scrolled": false
   },
   "outputs": [
    {
     "name": "stdout",
     "output_type": "stream",
     "text": [
      "                  App  Rating  Number_Of_Ratings\n",
      "0  whatsapp-messenger       1                161\n",
      "1  whatsapp-messenger       2                 24\n",
      "2  whatsapp-messenger       3                 45\n",
      "3  whatsapp-messenger       4                105\n",
      "4  whatsapp-messenger       5                497\n"
     ]
    }
   ],
   "source": [
    "# define the SQL query as a string\n",
    "query2 = \"\"\"\n",
    "SELECT App, Rating, COUNT(Rating) as Number_Of_Ratings\n",
    "FROM dff\n",
    "WHERE App = 'whatsapp-messenger'\n",
    "GROUP BY App, Rating\n",
    "\"\"\"\n",
    "\n",
    "# execute the query using sqldf\n",
    "result2 = sqldf(query2)\n",
    "\n",
    "# view the result\n",
    "print(result2)\n"
   ]
  },
  {
   "cell_type": "code",
   "execution_count": 85,
   "id": "24d137c6",
   "metadata": {},
   "outputs": [
    {
     "data": {
      "image/png": "[encoded data removed]",
      "text/plain": [
       "<Figure size 640x480 with 1 Axes>"
      ]
     },
     "metadata": {},
     "output_type": "display_data"
    }
   ],
   "source": [
    "# create a bar chart\n",
    "fig, ax = plt.subplots()\n",
    "ax.bar(result2['Rating'], result2['Number_Of_Ratings'], color=['lightgreen', 'coral', 'lightskyblue','gold','deeppink'])\n",
    "ax.set_xlabel('Rating Score')\n",
    "ax.set_ylabel('Number of Ratings')\n",
    "ax.set_title('Ratings Distribution for WhatsApp Messenger')\n",
    "plt.show()\n"
   ]
  },
  {
   "cell_type": "markdown",
   "id": "d01e1d53",
   "metadata": {},
   "source": [
    "# Average Rating "
   ]
  },
  {
   "cell_type": "code",
   "execution_count": 18,
   "id": "4946ebe8",
   "metadata": {},
   "outputs": [
    {
     "name": "stdout",
     "output_type": "stream",
     "text": [
      "                  App  Average_Rating\n",
      "0  whatsapp-messenger        3.898533\n"
     ]
    }
   ],
   "source": [
    "# define the SQL query as a string\n",
    "query3 = \"\"\"\n",
    "SELECT App, AVG(Rating) as Average_Rating\n",
    "FROM dff\n",
    "WHERE App = 'whatsapp-messenger'\n",
    "GROUP BY App\n",
    "\"\"\"\n",
    "\n",
    "# execute the query using sqldf\n",
    "result3 = sqldf(query3)\n",
    "\n",
    "# view the result\n",
    "print(result3)"
   ]
  },
  {
   "cell_type": "markdown",
   "id": "dbbf7d3b",
   "metadata": {},
   "source": [
    "# Ratings Distribution Trend 2010-2020"
   ]
  },
  {
   "cell_type": "code",
   "execution_count": 69,
   "id": "145542a7",
   "metadata": {},
   "outputs": [
    {
     "name": "stdout",
     "output_type": "stream",
     "text": [
      "   Rating  NumberofRatings  Year\n",
      "0       4                2  2009\n",
      "1       5                4  2009\n",
      "2       1                1  2010\n",
      "3       4                5  2010\n",
      "4       5                7  2010\n"
     ]
    }
   ],
   "source": [
    "# define the SQL query as a string\n",
    "query4 = \"\"\"\n",
    "SELECT Rating, COUNT(Rating) as NumberofRatings, Year\n",
    "FROM dff\n",
    "WHERE App = 'whatsapp-messenger'\n",
    "GROUP BY Year, Rating\n",
    "\"\"\"\n",
    "\n",
    "# execute the query using sqldf\n",
    "result4 = sqldf(query4)\n",
    "\n",
    "# view the result\n",
    "print(result4.head())"
   ]
  },
  {
   "cell_type": "code",
   "execution_count": 66,
   "id": "b7e521a2",
   "metadata": {},
   "outputs": [
    {
     "data": {
      "image/png": "[encoded data removed]",
      "text/plain": [
       "<Figure size 640x480 with 1 Axes>"
      ]
     },
     "metadata": {},
     "output_type": "display_data"
    }
   ],
   "source": [
    "# create a line graph\n",
    "fig, ax = plt.subplots()\n",
    "colors = ['red', 'green', 'blue', 'orange', 'purple']\n",
    "for rating, color in zip(result4['Rating'].unique(), colors):\n",
    "    data = result4[result4['Rating'] == rating]\n",
    "    ax.plot(data['Year'], data['NumberofRatings'], color=color, label=rating)\n",
    "\n",
    "# set the axis labels and title\n",
    "ax.set_xlabel('Year')\n",
    "ax.set_ylabel('Number of Ratings')\n",
    "ax.set_title('Ratings Distribution Trend for WhatsApp 2010-2020')\n",
    "\n",
    "# add a legend\n",
    "ax.legend()\n",
    "\n",
    "# show the plot\n",
    "plt.show()"
   ]
  },
  {
   "cell_type": "markdown",
   "id": "612d1c56",
   "metadata": {},
   "source": [
    "# Talkingtom2 App Analysis"
   ]
  },
  {
   "cell_type": "markdown",
   "id": "d31a8bb9",
   "metadata": {},
   "source": [
    "# Sentiment Distribution \n"
   ]
  },
  {
   "cell_type": "code",
   "execution_count": 74,
   "id": "33d846c3",
   "metadata": {},
   "outputs": [
    {
     "name": "stdout",
     "output_type": "stream",
     "text": [
      "                 App Overall_Sentiment  Number_Of_Reviews\n",
      "0  talking-tom-cat-2          negative                 12\n",
      "1  talking-tom-cat-2           neutral                790\n",
      "2  talking-tom-cat-2          positive                464\n"
     ]
    }
   ],
   "source": [
    "\n",
    "# define the SQL query as a string\n",
    "query1 = \"\"\"\n",
    "SELECT App, Overall_Sentiment, COUNT(Overall_Sentiment) as Number_Of_Reviews\n",
    "FROM newdf\n",
    "WHERE App = 'talking-tom-cat-2'\n",
    "GROUP BY App, Overall_Sentiment\n",
    "\"\"\"\n",
    "\n",
    "# execute the query using sqldf\n",
    "result1 = sqldf(query1)\n",
    "\n",
    "# view the result\n",
    "print(result1)"
   ]
  },
  {
   "cell_type": "markdown",
   "id": "5400a6e8",
   "metadata": {},
   "source": [
    "# Visualization"
   ]
  },
  {
   "cell_type": "code",
   "execution_count": 83,
   "id": "1fecdab7",
   "metadata": {},
   "outputs": [
    {
     "data": {
      "image/png": "[encoded data removed]",
      "text/plain": [
       "<Figure size 640x480 with 1 Axes>"
      ]
     },
     "metadata": {},
     "output_type": "display_data"
    },
    {
     "data": {
      "image/png": "[encoded data removed]",
      "text/plain": [
       "<Figure size 640x480 with 1 Axes>"
      ]
     },
     "metadata": {},
     "output_type": "display_data"
    }
   ],
   "source": [
    "# create a pie chart\n",
    "plt.pie(result1['Number_Of_Reviews'], labels=result1['Overall_Sentiment'], colors=['lightgreen', 'coral', 'lightskyblue'], autopct='%1.1f%%')\n",
    "plt.title('Sentiment Distribution for Talking Tom Cat 2')\n",
    "\n",
    "# display the plot\n",
    "plt.show()\n",
    "\n",
    "# create a bar chart\n",
    "plt.bar(result1['Overall_Sentiment'], result1['Number_Of_Reviews'], color=['lightgreen', 'coral', 'lightskyblue'])\n",
    "plt.title('Sentiment Distribution for Talking Tom Cat 2')\n",
    "plt.xlabel('Sentiment')\n",
    "plt.ylabel('Number of Reviews')\n",
    "\n",
    "# display the plot\n",
    "plt.show()"
   ]
  },
  {
   "cell_type": "markdown",
   "id": "e3852d71",
   "metadata": {},
   "source": [
    "# Sentiment Distribution Trend 2010-2020"
   ]
  },
  {
   "cell_type": "code",
   "execution_count": 79,
   "id": "c3c87a6e",
   "metadata": {},
   "outputs": [
    {
     "name": "stdout",
     "output_type": "stream",
     "text": [
      "                 App Overall_Sentiment  Number_Of_Reviews  Year\n",
      "0  talking-tom-cat-2          negative                  8  2011\n",
      "1  talking-tom-cat-2           neutral                503  2011\n",
      "2  talking-tom-cat-2          positive                287  2011\n",
      "3  talking-tom-cat-2          negative                  2  2012\n",
      "4  talking-tom-cat-2           neutral                194  2012\n"
     ]
    }
   ],
   "source": [
    "# define the SQL query as a string\n",
    "newquery3 = \"\"\"\n",
    "SELECT App, Overall_Sentiment, COUNT(Overall_Sentiment) as Number_Of_Reviews, Year\n",
    "FROM newdf\n",
    "WHERE App = 'talking-tom-cat-2'\n",
    "GROUP BY Year, Overall_Sentiment\n",
    "\"\"\"\n",
    "\n",
    "# execute the query using sqldf\n",
    "newresult3 = sqldf(newquery3)\n",
    "\n",
    "# view the result\n",
    "print(newresult3.head())"
   ]
  },
  {
   "cell_type": "code",
   "execution_count": 59,
   "id": "7e1ed9da",
   "metadata": {},
   "outputs": [
    {
     "data": {
      "image/png": "[encoded data removed]",
      "text/plain": [
       "<Figure size 640x480 with 1 Axes>"
      ]
     },
     "metadata": {},
     "output_type": "display_data"
    }
   ],
   "source": [
    "# pivot the result to create separate columns for each sentiment\n",
    "newresult3_pivot = newresult3.pivot(index='Year', columns='Overall_Sentiment', values='Sentiments')\n",
    "\n",
    "# create a line graph with customized colors\n",
    "fig, ax = plt.subplots()\n",
    "newresult3_pivot.plot(ax=ax, kind='line', style=['-', '-', '-'], color=['red', 'blue', 'green'])\n",
    "\n",
    "# add labels and title\n",
    "ax.set_xlabel('Year')\n",
    "ax.set_ylabel('Number of Reviews')\n",
    "ax.set_title('Talkingtomcat2 Sentiment Review Trend 2010-2020')\n",
    "\n",
    "# show the plot\n",
    "plt.show()"
   ]
  },
  {
   "cell_type": "markdown",
   "id": "25d4b3f4",
   "metadata": {},
   "source": [
    "# Ratings Distribution "
   ]
  },
  {
   "cell_type": "code",
   "execution_count": 80,
   "id": "92e5ecd8",
   "metadata": {},
   "outputs": [
    {
     "name": "stdout",
     "output_type": "stream",
     "text": [
      "                 App  Rating  Number_Of_Ratings\n",
      "0  talking-tom-cat-2       1                 44\n",
      "1  talking-tom-cat-2       2                 21\n",
      "2  talking-tom-cat-2       3                 57\n",
      "3  talking-tom-cat-2       4                180\n",
      "4  talking-tom-cat-2       5                964\n"
     ]
    }
   ],
   "source": [
    "# define the SQL query as a string\n",
    "query2 = \"\"\"\n",
    "SELECT App, Rating, COUNT(Rating) as Number_Of_Ratings\n",
    "FROM dff\n",
    "WHERE App = 'talking-tom-cat-2'\n",
    "GROUP BY App, Rating\n",
    "\"\"\"\n",
    "\n",
    "# execute the query using sqldf\n",
    "result2 = sqldf(query2)\n",
    "\n",
    "# view the result\n",
    "print(result2)"
   ]
  },
  {
   "cell_type": "markdown",
   "id": "e5f86be2",
   "metadata": {},
   "source": [
    "# Visualization"
   ]
  },
  {
   "cell_type": "code",
   "execution_count": 88,
   "id": "dcaf34f8",
   "metadata": {},
   "outputs": [
    {
     "data": {
      "image/png": "[encoded data removed]",
      "text/plain": [
       "<Figure size 640x480 with 1 Axes>"
      ]
     },
     "metadata": {},
     "output_type": "display_data"
    }
   ],
   "source": [
    "# Define the data to be plotted\n",
    "x = result2['Rating']\n",
    "y = result2['Number_Of_Ratings']\n",
    "\n",
    "# Define the colors for each rating level\n",
    "colors = ['#FFC300', '#FF5733', '#C70039', '#900C3F', '#581845']\n",
    "\n",
    "# Create a bar chart\n",
    "plt.bar(x, y, color=colors)\n",
    "\n",
    "# Set the title and axis labels\n",
    "plt.title('Ratings Distribution for Talking Tom Cat 2')\n",
    "plt.xlabel('Rating')\n",
    "plt.ylabel('Number of Ratings')\n",
    "\n",
    "# Show the chart\n",
    "plt.show()"
   ]
  },
  {
   "cell_type": "markdown",
   "id": "671fdd86",
   "metadata": {},
   "source": [
    "# Average Rating "
   ]
  },
  {
   "cell_type": "code",
   "execution_count": 54,
   "id": "214980c7",
   "metadata": {},
   "outputs": [
    {
     "name": "stdout",
     "output_type": "stream",
     "text": [
      "                 App  Average_Rating\n",
      "0  talking-tom-cat-2        4.578989\n"
     ]
    }
   ],
   "source": [
    "# define the SQL query as a string\n",
    "query3 = \"\"\"\n",
    "SELECT App, AVG(Rating) as Average_Rating\n",
    "FROM dff\n",
    "WHERE App = 'talking-tom-cat-2'\n",
    "GROUP BY App\n",
    "\"\"\"\n",
    "\n",
    "# execute the query using sqldf\n",
    "result3 = sqldf(query3)\n",
    "\n",
    "# view the result\n",
    "print(result3)"
   ]
  },
  {
   "cell_type": "markdown",
   "id": "f9386f03",
   "metadata": {},
   "source": [
    "# Rating Distribution Trend 2010-2020"
   ]
  },
  {
   "cell_type": "code",
   "execution_count": 70,
   "id": "50a7d652",
   "metadata": {},
   "outputs": [
    {
     "name": "stdout",
     "output_type": "stream",
     "text": [
      "   Rating  NumberofRatings  Year\n",
      "0       1               23  2011\n",
      "1       2               10  2011\n",
      "2       3               34  2011\n",
      "3       4              124  2011\n",
      "4       5              607  2011\n"
     ]
    }
   ],
   "source": [
    "# define the SQL query as a string\n",
    "query5 = \"\"\"\n",
    "SELECT Rating, COUNT(Rating) as NumberofRatings, Year\n",
    "FROM dff\n",
    "WHERE App = 'talking-tom-cat-2'\n",
    "GROUP BY Year, Rating\n",
    "\"\"\"\n",
    "\n",
    "# execute the query using sqldf\n",
    "result5 = sqldf(query5)\n",
    "\n",
    "# view the result\n",
    "print(result5.head())"
   ]
  },
  {
   "cell_type": "markdown",
   "id": "cb578985",
   "metadata": {},
   "source": [
    "# Visualization"
   ]
  },
  {
   "cell_type": "code",
   "execution_count": 73,
   "id": "2104ceda",
   "metadata": {},
   "outputs": [
    {
     "data": {
      "image/png": "[encoded data removed]",
      "text/plain": [
       "<Figure size 640x480 with 1 Axes>"
      ]
     },
     "metadata": {},
     "output_type": "display_data"
    }
   ],
   "source": [
    "# create a line graph\n",
    "fig, ax = plt.subplots()\n",
    "colors = ['red', 'green', 'blue', 'orange', 'purple']\n",
    "for rating, color in zip(result5['Rating'].unique(), colors):\n",
    "    data = result5[result5['Rating'] == rating]\n",
    "    ax.plot(data['Year'], data['NumberofRatings'], color=color, label=rating)\n",
    "\n",
    "# set the axis labels and title\n",
    "ax.set_xlabel('Year')\n",
    "ax.set_ylabel('Number of Ratings')\n",
    "ax.set_title('Ratings Distribution Trend for Talking Tom Cat 2 2010-2020')\n",
    "\n",
    "# add a legend\n",
    "ax.legend()\n",
    "\n",
    "# show the plot\n",
    "plt.show()"
   ]
  },
  {
   "cell_type": "markdown",
   "id": "78c10852",
   "metadata": {},
   "source": [
    "# Conclusion"
   ]
  },
  {
   "cell_type": "markdown",
   "id": "d0d25c42",
   "metadata": {},
   "source": [
    "Key takeaway: Based on my analysis of this sample dataset, I've observed that a high rating (4-5) doesn't necessarily indicate a positive sentiment from the user. Even if users give a high rating, their response in the subject and review may still be considered neutral. This indicates that users tend to rate an app highly as long as it functions well and is convenient, regardless of their actual feelings towards the app. Therefore, it's important to take into account the specific wording of user reviews rather than just relying on ratings to analyze user sentiment."
   ]
  },
  {
   "cell_type": "code",
   "execution_count": null,
   "id": "45db9b84",
   "metadata": {},
   "outputs": [],
   "source": []
  }
 ],
 "metadata": {
  "kernelspec": {
   "display_name": "Python 3 (ipykernel)",
   "language": "python",
   "name": "python3"
  },
  "language_info": {
   "codemirror_mode": {
    "name": "ipython",
    "version": 3
   },
   "file_extension": ".py",
   "mimetype": "text/x-python",
   "name": "python",
   "nbconvert_exporter": "python",
   "pygments_lexer": "ipython3",
   "version": "3.9.4"
  }
 },
 "nbformat": 4,
 "nbformat_minor": 5
}
